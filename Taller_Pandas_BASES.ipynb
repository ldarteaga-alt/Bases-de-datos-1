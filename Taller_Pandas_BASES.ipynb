{
  "nbformat": 4,
  "nbformat_minor": 0,
  "metadata": {
    "colab": {
      "provenance": []
    },
    "kernelspec": {
      "display_name": "Python 3",
      "language": "python",
      "name": "python3"
    },
    "language_info": {
      "codemirror_mode": {
        "name": "ipython",
        "version": 3
      },
      "file_extension": ".py",
      "mimetype": "text/x-python",
      "name": "python",
      "nbconvert_exporter": "python",
      "pygments_lexer": "ipython3",
      "version": "3.7.6"
    }
  },
  "cells": [
    {
      "cell_type": "markdown",
      "metadata": {
        "id": "_kGiUp-aXlZU"
      },
      "source": [
        "#**Taller 1 - Análisis de datos con *Pandas***\n",
        "---\n",
        "\n",
        "Esta tarea le permitirá practicar las habilidades adquiridas usando la librería para el análisis y manipulación de datos *pandas*. Utilizaremos el [dataset de Salarios en San Francisco - SF](https://www.kaggle.com/kaggle/sf-salaries) de *Kaggle*.\n",
        "\n",
        "El conjunto de datos de salarios de San Francisco cuenta con múltiples variables salariales de los empleados de la ciudad entre $2011$ y $2014$ :\n",
        "\n",
        "| Variable | Definición\t| Valores |\n",
        "| --- | --- | --- |\n",
        "| EmployeeName | \tNombre del empleado  | \t |\n",
        "| JobTitle \t| Título del empleo | |\n",
        "| BasePay \t| Salario base \t| |\n",
        "| OvertimePay |\tSalario por tiempo extra \t| |\n",
        "| OtherPay |\tOtros pagos salariales \t| |\n",
        "| Benefits |\tBeneficios (Costo de beneficios de salud y pensión) \t| |\n",
        "| TotalPay |\tSalario total del periodo\t| |\n",
        "| TotalPayBenefits |\tSalario total más beneficios | |\n",
        "| Year \t| Año | |\n",
        "| Notes |\tInformación del registro\t| No aplica |\n",
        "| Agency |\tCiudad de la agencia de empleos |\t'San Francisco' |\n",
        "| Status |\tEstado del registro |\tNo aplica |\n",
        "\n"
      ]
    },
    {
      "cell_type": "markdown",
      "metadata": {
        "id": "Lz6RiA6hiuMU"
      },
      "source": [
        "Ejecute la siguiente celda para importar *pandas*."
      ]
    },
    {
      "cell_type": "code",
      "metadata": {
        "id": "UeHIJwQs9Ew1"
      },
      "source": [
        "# Importar pandas\n",
        "import pandas as pd"
      ],
      "execution_count": 23,
      "outputs": []
    },
    {
      "cell_type": "code",
      "metadata": {
        "id": "hMRTRILm9Hu8",
        "colab": {
          "base_uri": "https://localhost:8080/"
        },
        "outputId": "74296a76-0a4b-4615-d564-95f26c2feaa1"
      },
      "source": [
        "#TEST_CELL\n",
        "!python --version\n",
        "print('Pandas', pd.__version__)"
      ],
      "execution_count": 24,
      "outputs": [
        {
          "output_type": "stream",
          "name": "stdout",
          "text": [
            "Python 3.11.13\n",
            "Pandas 2.2.2\n"
          ]
        }
      ]
    },
    {
      "cell_type": "markdown",
      "metadata": {
        "id": "SyVY0vdCjm1R"
      },
      "source": [
        "Este material fue realizado con las siguientes versiones:\n",
        "\n",
        "- Python 3.10.12\n",
        "\n",
        "- Pandas: 2.0.3"
      ]
    },
    {
      "cell_type": "markdown",
      "metadata": {
        "id": "VfJrDRB0kvbN"
      },
      "source": [
        "Por favor complete las tareas que se detallan a continuación. El nivel de dificultad de las tareas es incremental."
      ]
    },
    {
      "cell_type": "code",
      "metadata": {
        "id": "_Fq8CTZTXlZq"
      },
      "source": [
        "### EJECUTAR ESTA CELDA SIN MODIFICARLA. SI FALLA, DEBE SEGUIR EL PROCEDIMIENTO DESCRITO ANTES.\n",
        "sal = pd.read_csv('salarios.csv')\n",
        "## Tarda un poco en cargar, tenga paciencia.\n",
        "## Puede ver el progreso de la carga en la parte inferior izquierda de la ventana."
      ],
      "execution_count": 25,
      "outputs": []
    },
    {
      "cell_type": "markdown",
      "metadata": {
        "id": "adqf_QGVpsMi"
      },
      "source": [
        "## **0.  Leer el archivo de datos**\n",
        "---\n",
        "> **IMPORTANTE:**\n",
        "\n",
        "  1. Por favor descargue el archivo con el conjunto de datos desde el siguiente enlace: **[salarios.csv](https://raw.githubusercontent.com/JuezUN/datasets/master/salarios.csv)**.\n",
        "  2. En el enlace, haga clic derecho y seleccione la opción **\"Guardar como...\"**.\n",
        "\n",
        "  3. Cargue este archivo en su sistema de archivos de **Google Colaboratory**. Para hacer esto:\n",
        "    \n",
        "    * Haga clic donde aparece el icono del directorio en la parte izquierda de la ventana en *Google Colaboratory* que corresponde a la imagen de una carpeta.\n",
        "    * Después, haga clic en el icono **\"Subir\"**.\n",
        "    * Seleccione el archivo **`salarios.csv`** que previamente descargó y haga clic en **\"Aceptar\"**.\n",
        "\n",
        "  \n",
        "  4. Ejecute la siguiente celda para cargar el conjunto de datos dentro del DataFrame de *pandas* llamado **`sal`**:"
      ]
    },
    {
      "cell_type": "markdown",
      "metadata": {
        "id": "is3esgp0XlZ9"
      },
      "source": [
        "> Haga una exploración de las variables con el método **`.info()`**. Asegúrese de tener $148654$ registros. **De lo contrario, es posible que haya ejecutado la celda anterior antes que terminara de cargar el archivo.** Si ese es el caso, deberá **ejecutarla nuevamente** cuando el archivo haya terminado de cargar.\n"
      ]
    },
    {
      "cell_type": "code",
      "metadata": {
        "id": "AWj2NSTAXlZ-",
        "colab": {
          "base_uri": "https://localhost:8080/"
        },
        "outputId": "4b7657a7-f8a5-4821-94bf-e238c1b8ba19"
      },
      "source": [
        "sal.info()"
      ],
      "execution_count": 26,
      "outputs": [
        {
          "output_type": "stream",
          "name": "stdout",
          "text": [
            "<class 'pandas.core.frame.DataFrame'>\n",
            "RangeIndex: 148654 entries, 0 to 148653\n",
            "Data columns (total 13 columns):\n",
            " #   Column            Non-Null Count   Dtype  \n",
            "---  ------            --------------   -----  \n",
            " 0   Id                148654 non-null  int64  \n",
            " 1   EmployeeName      148654 non-null  object \n",
            " 2   JobTitle          148654 non-null  object \n",
            " 3   BasePay           148045 non-null  float64\n",
            " 4   OvertimePay       148650 non-null  float64\n",
            " 5   OtherPay          148650 non-null  float64\n",
            " 6   Benefits          112491 non-null  float64\n",
            " 7   TotalPay          148654 non-null  float64\n",
            " 8   TotalPayBenefits  148654 non-null  float64\n",
            " 9   Year              148654 non-null  int64  \n",
            " 10  Notes             0 non-null       float64\n",
            " 11  Agency            148654 non-null  object \n",
            " 12  Status            0 non-null       float64\n",
            "dtypes: float64(8), int64(2), object(3)\n",
            "memory usage: 14.7+ MB\n"
          ]
        }
      ]
    },
    {
      "cell_type": "markdown",
      "metadata": {
        "id": "EavxnM8pY29u"
      },
      "source": [
        "**Salida esperada:**\n",
        "```python\n",
        "<class 'pandas.core.frame.DataFrame'>\n",
        "RangeIndex: 148654 entries, 0 to 148653\n",
        "Data columns (total 13 columns):\n",
        " #   Column            Non-Null Count   Dtype  \n",
        "---  ------            --------------   -----  \n",
        " 0   Id                148654 non-null  int64  \n",
        " 1   EmployeeName      148654 non-null  object\n",
        " 2   JobTitle          148654 non-null  object\n",
        " 3   BasePay           148045 non-null  float64\n",
        " 4   OvertimePay       148650 non-null  float64\n",
        " 5   OtherPay          148650 non-null  float64\n",
        " 6   Benefits          112491 non-null  float64\n",
        " 7   TotalPay          148654 non-null  float64\n",
        " 8   TotalPayBenefits  148654 non-null  float64\n",
        " 9   Year              148654 non-null  int64  \n",
        " 10  Notes             0 non-null       float64\n",
        " 11  Agency            148654 non-null  object\n",
        " 12  Status            0 non-null       float64\n",
        "dtypes: float64(8), int64(2), object(3)\n",
        "memory usage: 14.7+ MB\n",
        "```"
      ]
    },
    {
      "cell_type": "markdown",
      "metadata": {
        "id": "poLcbWe_XlZ2"
      },
      "source": [
        "- Muestre las primeras 5 filas del *DataFrame* para verificar que leyó los datos correctamente."
      ]
    },
    {
      "cell_type": "code",
      "metadata": {
        "id": "B5zJw4RAXlZ2",
        "colab": {
          "base_uri": "https://localhost:8080/"
        },
        "outputId": "73f05892-15b0-4915-add1-f61a330f673a"
      },
      "source": [
        "print(sal.head(5))"
      ],
      "execution_count": 27,
      "outputs": [
        {
          "output_type": "stream",
          "name": "stdout",
          "text": [
            "   Id       EmployeeName                                        JobTitle  \\\n",
            "0   1     NATHANIEL FORD  GENERAL MANAGER-METROPOLITAN TRANSIT AUTHORITY   \n",
            "1   2       GARY JIMENEZ                 CAPTAIN III (POLICE DEPARTMENT)   \n",
            "2   3     ALBERT PARDINI                 CAPTAIN III (POLICE DEPARTMENT)   \n",
            "3   4  CHRISTOPHER CHONG            WIRE ROPE CABLE MAINTENANCE MECHANIC   \n",
            "4   5    PATRICK GARDNER    DEPUTY CHIEF OF DEPARTMENT,(FIRE DEPARTMENT)   \n",
            "\n",
            "     BasePay  OvertimePay   OtherPay  Benefits   TotalPay  TotalPayBenefits  \\\n",
            "0  167411.18         0.00  400184.25       NaN  567595.43         567595.43   \n",
            "1  155966.02    245131.88  137811.38       NaN  538909.28         538909.28   \n",
            "2  212739.13    106088.18   16452.60       NaN  335279.91         335279.91   \n",
            "3   77916.00     56120.71  198306.90       NaN  332343.61         332343.61   \n",
            "4  134401.60      9737.00  182234.59       NaN  326373.19         326373.19   \n",
            "\n",
            "   Year  Notes         Agency  Status  \n",
            "0  2011    NaN  San Francisco     NaN  \n",
            "1  2011    NaN  San Francisco     NaN  \n",
            "2  2011    NaN  San Francisco     NaN  \n",
            "3  2011    NaN  San Francisco     NaN  \n",
            "4  2011    NaN  San Francisco     NaN  \n"
          ]
        }
      ]
    },
    {
      "cell_type": "markdown",
      "metadata": {
        "id": "t2VPn0u9m7bH"
      },
      "source": [
        "A continuación se le pedirá que realice varias acciones sobre el *DataFrame* **`sal`**. Por favor siga las instrucciones y no cambie el nombre de las variables o funciones dadas."
      ]
    },
    {
      "cell_type": "markdown",
      "metadata": {
        "id": "wD8JhrFnXlaL"
      },
      "source": [
        "## **1. ¿Cuál es el salario base promedio?**\n",
        "---\n",
        "Guarde el resultado de esta pregunta en la variable **`salario_promedio`**."
      ]
    },
    {
      "cell_type": "markdown",
      "metadata": {
        "id": "BA-nbOmnPYl6"
      },
      "source": [
        "<details>    \n",
        "<summary>\n",
        "    <font size=\"3\" color=\"darkgreen\"><b>Pistas</b></font>\n",
        "</summary>\n",
        "<p>\n",
        "\n",
        "* La columna que almacena los salarios base en este conjunto de datos es: **`BasePay`**."
      ]
    },
    {
      "cell_type": "code",
      "metadata": {
        "id": "16C9T0m9XlaL",
        "colab": {
          "base_uri": "https://localhost:8080/"
        },
        "outputId": "6b7083c0-e175-42a7-fc8d-54aa8d66cb0c"
      },
      "source": [
        "## salario_promedio\n",
        "\n",
        "### ESCRIBA SU CÓDIGO AQUÍ ### (~ 1 línea de código)\n",
        "salario_promedio = sal[\"BasePay\"].mean()\n",
        "### FIN DEL CÓDIGO ###\n",
        "salario_promedio"
      ],
      "execution_count": 28,
      "outputs": [
        {
          "output_type": "execute_result",
          "data": {
            "text/plain": [
              "np.float64(66325.4488404877)"
            ]
          },
          "metadata": {},
          "execution_count": 28
        }
      ]
    },
    {
      "cell_type": "markdown",
      "metadata": {
        "id": "aUMOBmPr3NCw"
      },
      "source": [
        "La salida de la celda anterior debería ser (no se muestran todas las cifras):\n",
        "```python\n",
        "6___5.4__84__0643\n",
        "```"
      ]
    },
    {
      "cell_type": "markdown",
      "metadata": {
        "id": "ZeUUokYPos4g"
      },
      "source": [
        "## **2. ¿Cuál es la mayor cantidad pagada por horas extra?**\n",
        "---\n",
        "Guarde el resultado de esta pregunta en la variable **`maximo_pago`**."
      ]
    },
    {
      "cell_type": "markdown",
      "metadata": {
        "id": "MLGwxvJnmbV3"
      },
      "source": [
        "<details>    \n",
        "<summary>\n",
        "    <font size=\"3\" color=\"darkgreen\"><b>Pistas</b></font>\n",
        "</summary>\n",
        "\n",
        "* La columna **`OvertimePay`** contiene los valores pagados por concepto de horas extra.\n",
        "* Recuerde que los nombres de las columnas son susceptibles a mayúsculas y minúsculas. Es diferente **`OvertimePay`** a **`overtimepay`**."
      ]
    },
    {
      "cell_type": "code",
      "metadata": {
        "id": "UTGUCU5Ios4h",
        "colab": {
          "base_uri": "https://localhost:8080/"
        },
        "outputId": "82d44932-604f-4e30-fba9-f191bc7311c0"
      },
      "source": [
        "## maximo_pago\n",
        "\n",
        "### ESCRIBA SU CÓDIGO AQUÍ ### (~ 1 línea de código)\n",
        "maximo_pago = sal[\"OvertimePay\"].max()\n",
        "### FIN DEL CÓDIGO ###\n",
        "\n",
        "maximo_pago"
      ],
      "execution_count": 29,
      "outputs": [
        {
          "output_type": "execute_result",
          "data": {
            "text/plain": [
              "245131.88"
            ]
          },
          "metadata": {},
          "execution_count": 29
        }
      ]
    },
    {
      "cell_type": "markdown",
      "metadata": {
        "id": "xQXUfwzoF2sE"
      },
      "source": [
        "La salida de la celda anterior debería ser (no se muestran todas las cifras):\n",
        "```python\n",
        "24__31._8\n",
        "```"
      ]
    },
    {
      "cell_type": "markdown",
      "metadata": {
        "id": "Uy3EPhF9pC-J"
      },
      "source": [
        "## **3. ¿Cuál es el cargo de \"Lisa Murphy\"?**\n",
        "---\n",
        "\n",
        "Guarde el resultado de esta pregunta en la variable **`cargo_lisa`**."
      ]
    },
    {
      "cell_type": "markdown",
      "metadata": {
        "id": "Av2RI0NimtMB"
      },
      "source": [
        "<details>    \n",
        "<summary>\n",
        "    <font size=\"3\" color=\"darkgreen\"><b>Pistas</b></font>\n",
        "</summary>\n",
        "\n",
        "* La variable debe contener un objeto de tipo *Series* con el índice original de \"Lisa Murphy\" en el *DataFrame* **`sal`**.\n",
        "* Intente usar selección condicional para obtener el registro deseado. Además, debe quedarse únicamente con la columna del cargo (**`JobTitle`**).\n"
      ]
    },
    {
      "cell_type": "code",
      "metadata": {
        "id": "-ICJmzdBpC-K",
        "colab": {
          "base_uri": "https://localhost:8080/",
          "height": 115
        },
        "outputId": "c70eed4f-5dc2-4023-9214-be0967c0fdde"
      },
      "source": [
        "## cargo_lisa\n",
        "\n",
        "### ESCRIBA SU CÓDIGO AQUÍ ### (~ 1 línea de código)\n",
        "\n",
        "cargo_lisa = sal.loc[sal['EmployeeName'] == 'Lisa Murphy', 'JobTitle']\n",
        "cargo_lisa"
      ],
      "execution_count": 30,
      "outputs": [
        {
          "output_type": "execute_result",
          "data": {
            "text/plain": [
              "72161    Recreation Leader\n",
              "Name: JobTitle, dtype: object"
            ],
            "text/html": [
              "<div>\n",
              "<style scoped>\n",
              "    .dataframe tbody tr th:only-of-type {\n",
              "        vertical-align: middle;\n",
              "    }\n",
              "\n",
              "    .dataframe tbody tr th {\n",
              "        vertical-align: top;\n",
              "    }\n",
              "\n",
              "    .dataframe thead th {\n",
              "        text-align: right;\n",
              "    }\n",
              "</style>\n",
              "<table border=\"1\" class=\"dataframe\">\n",
              "  <thead>\n",
              "    <tr style=\"text-align: right;\">\n",
              "      <th></th>\n",
              "      <th>JobTitle</th>\n",
              "    </tr>\n",
              "  </thead>\n",
              "  <tbody>\n",
              "    <tr>\n",
              "      <th>72161</th>\n",
              "      <td>Recreation Leader</td>\n",
              "    </tr>\n",
              "  </tbody>\n",
              "</table>\n",
              "</div><br><label><b>dtype:</b> object</label>"
            ]
          },
          "metadata": {},
          "execution_count": 30
        }
      ]
    },
    {
      "cell_type": "markdown",
      "metadata": {
        "id": "mgr1iPHGGVxh"
      },
      "source": [
        "La salida de la celda anterior debería ser (no se muestran todos los caracteres):\n",
        "\n",
        "```python\n",
        "72___    Rec___tion _e_der\n",
        "Name: JobTitle, dtype: object\n",
        "```"
      ]
    },
    {
      "cell_type": "markdown",
      "metadata": {
        "id": "TjxT07AcpmjS"
      },
      "source": [
        "## **4. ¿Cuánto gana incluyendo beneficios \"John Scott\"?**\n",
        "---\n",
        "\n",
        "Guarde el resultado de esta pregunta en la variable **`ganancias_john`**.\n",
        "\n",
        "> **Nota:** esto incluye también los beneficios (**`TotalPayBenefits`**)."
      ]
    },
    {
      "cell_type": "markdown",
      "metadata": {
        "id": "DrUaakCtnMW_"
      },
      "source": [
        "<details>    \n",
        "<summary>\n",
        "    <font size=\"3\" color=\"darkgreen\"><b>Pistas</b></font>\n",
        "</summary>\n",
        "\n",
        "* La variable debe contener un objeto de tipo *Series* con el índice original de John Scott en **`sal`**.\n",
        "* Intente usar selección condicional y seleccionar solo la variable de interés.\n",
        "\n"
      ]
    },
    {
      "cell_type": "code",
      "metadata": {
        "id": "fuu_xkttpmjT",
        "colab": {
          "base_uri": "https://localhost:8080/",
          "height": 115
        },
        "outputId": "6f09515b-5f0c-466b-aa8e-33f6ddbd1180"
      },
      "source": [
        "## ganancias_john\n",
        "\n",
        "### ESCRIBA SU CÓDIGO AQUÍ ### (~ 1 línea de código)\n",
        "ganancias_john = sal.loc[sal['EmployeeName']== \"John Scott\", \"TotalPayBenefits\"]\n",
        "ganancias_john\n",
        "### FIN DEL CÓDIGO ###\n",
        "\n"
      ],
      "execution_count": 31,
      "outputs": [
        {
          "output_type": "execute_result",
          "data": {
            "text/plain": [
              "40234    178403.37\n",
              "Name: TotalPayBenefits, dtype: float64"
            ],
            "text/html": [
              "<div>\n",
              "<style scoped>\n",
              "    .dataframe tbody tr th:only-of-type {\n",
              "        vertical-align: middle;\n",
              "    }\n",
              "\n",
              "    .dataframe tbody tr th {\n",
              "        vertical-align: top;\n",
              "    }\n",
              "\n",
              "    .dataframe thead th {\n",
              "        text-align: right;\n",
              "    }\n",
              "</style>\n",
              "<table border=\"1\" class=\"dataframe\">\n",
              "  <thead>\n",
              "    <tr style=\"text-align: right;\">\n",
              "      <th></th>\n",
              "      <th>TotalPayBenefits</th>\n",
              "    </tr>\n",
              "  </thead>\n",
              "  <tbody>\n",
              "    <tr>\n",
              "      <th>40234</th>\n",
              "      <td>178403.37</td>\n",
              "    </tr>\n",
              "  </tbody>\n",
              "</table>\n",
              "</div><br><label><b>dtype:</b> float64</label>"
            ]
          },
          "metadata": {},
          "execution_count": 31
        }
      ]
    },
    {
      "cell_type": "markdown",
      "metadata": {
        "id": "6YNtvkXHG0Cr"
      },
      "source": [
        "La salida de la celda anterior debería ser (no se muestran todas las cifras):\n",
        "```python\n",
        "40__4    178__3.37\n",
        "Name: TotalPayBenefits, dtype: float64\n",
        "```"
      ]
    },
    {
      "cell_type": "markdown",
      "metadata": {
        "id": "5jPfgvN6qINz"
      },
      "source": [
        "## **5. ¿Cuál es el nombre de la persona que más gana?**\n",
        "---\n",
        "Guarde el resultado de esta pregunta en la variable **`max_pers_gana`**.\n",
        "\n",
        "> **Nota:** considerando también los beneficios (**`TotalPayBenefits`**)."
      ]
    },
    {
      "cell_type": "markdown",
      "metadata": {
        "id": "t2fyFEsSnYWX"
      },
      "source": [
        "<details>    \n",
        "<summary>\n",
        "    <font size=\"3\" color=\"darkgreen\"><b>Pistas</b></font>\n",
        "</summary>\n",
        "\n",
        "* La variable debe contener un objeto de tipo *Series* con el índice original de la persona en **`sal`**.\n",
        "* Utilice indexado condicional en filas y selección de columnas para obtener la serie deseada."
      ]
    },
    {
      "cell_type": "code",
      "metadata": {
        "id": "hgvFrYhNqIN0",
        "colab": {
          "base_uri": "https://localhost:8080/",
          "height": 35
        },
        "outputId": "5dcfbde5-6215-4a78-e492-a59e41928097"
      },
      "source": [
        "## max_pers_gana\n",
        "\n",
        "### ESCRIBA SU CÓDIGO AQUÍ ### (~ 1 línea de código)\n",
        "max_pers_gana = sal.loc[sal['TotalPayBenefits'].idxmax(), 'EmployeeName']\n",
        "max_pers_gana\n",
        "### FIN DEL CÓDIGO ###\n"
      ],
      "execution_count": 32,
      "outputs": [
        {
          "output_type": "execute_result",
          "data": {
            "text/plain": [
              "'NATHANIEL FORD'"
            ],
            "application/vnd.google.colaboratory.intrinsic+json": {
              "type": "string"
            }
          },
          "metadata": {},
          "execution_count": 32
        }
      ]
    },
    {
      "cell_type": "markdown",
      "metadata": {
        "id": "iev1j8QAG_tR"
      },
      "source": [
        "La salida de la celda anterior debería ser (no se muestran todos los caracteres):\n",
        "```python\n",
        "_    NA_____EL __RD\n",
        "Name: EmployeeName, dtype: object\n",
        "```"
      ]
    },
    {
      "cell_type": "markdown",
      "metadata": {
        "id": "tcPBNobZqoIL"
      },
      "source": [
        "## **6. ¿Cuál es el cargo de la persona que menos gana?**\n",
        "---\n",
        "\n",
        "Guarde el resultado de esta pregunta en la variable **`min_cargo_gana`**.\n",
        "\n",
        "> **Nota:** considerando también los beneficios (**`TotalPayBenefits`**)."
      ]
    },
    {
      "cell_type": "markdown",
      "metadata": {
        "id": "ApeerSi5oHcQ"
      },
      "source": [
        "<details>    \n",
        "<summary>\n",
        "    <font size=\"3\" color=\"darkgreen\"><b>Pistas</b></font>\n",
        "</summary>\n",
        "\n",
        "* La variable debe contener un objeto de tipo *Series* con el índice original de la persona en **`sal`**.\n",
        "* Utilice indexado condicional en filas y selección de columnas para obtener la serie deseada."
      ]
    },
    {
      "cell_type": "code",
      "metadata": {
        "id": "pC3hwYrcqoIN",
        "colab": {
          "base_uri": "https://localhost:8080/",
          "height": 115
        },
        "outputId": "873e41d3-43d4-4b67-e746-e4ed55371200"
      },
      "source": [
        "## min_pers_gana\n",
        "### ESCRIBA SU CÓDIGO AQUÍ ### (~ 1 línea de código)\n",
        "min_cargo_gana = sal.loc[[sal['TotalPayBenefits'].idxmin()], \"JobTitle\"]\n",
        "min_cargo_gana\n",
        "### FIN DEL CÓDIGO ###"
      ],
      "execution_count": 33,
      "outputs": [
        {
          "output_type": "execute_result",
          "data": {
            "text/plain": [
              "148653    Counselor, Log Cabin Ranch\n",
              "Name: JobTitle, dtype: object"
            ],
            "text/html": [
              "<div>\n",
              "<style scoped>\n",
              "    .dataframe tbody tr th:only-of-type {\n",
              "        vertical-align: middle;\n",
              "    }\n",
              "\n",
              "    .dataframe tbody tr th {\n",
              "        vertical-align: top;\n",
              "    }\n",
              "\n",
              "    .dataframe thead th {\n",
              "        text-align: right;\n",
              "    }\n",
              "</style>\n",
              "<table border=\"1\" class=\"dataframe\">\n",
              "  <thead>\n",
              "    <tr style=\"text-align: right;\">\n",
              "      <th></th>\n",
              "      <th>JobTitle</th>\n",
              "    </tr>\n",
              "  </thead>\n",
              "  <tbody>\n",
              "    <tr>\n",
              "      <th>148653</th>\n",
              "      <td>Counselor, Log Cabin Ranch</td>\n",
              "    </tr>\n",
              "  </tbody>\n",
              "</table>\n",
              "</div><br><label><b>dtype:</b> object</label>"
            ]
          },
          "metadata": {},
          "execution_count": 33
        }
      ]
    },
    {
      "cell_type": "markdown",
      "metadata": {
        "id": "4HiIxMf5HN2f"
      },
      "source": [
        "La salida de la celda anterior debería ser (no se muestran todos los caracteres):\n",
        "```python\n",
        "14___3    Co____lor, Lo_ _abin Ra__h\n",
        "Name: JobTitle, dtype: object\n",
        "```\n"
      ]
    },
    {
      "cell_type": "markdown",
      "metadata": {
        "id": "bgNn-MVpq_i3"
      },
      "source": [
        "## **7. ¿Cuál es el salario base promedio de todos los empleados por año?**\n",
        "---\n",
        "\n",
        "Guarde el resultado de esta pregunta en la variable **`sal_base_prom`**.\n",
        "\n",
        "> **Nota:** El cálculo se realiza en los años $2011$ a $2014$, la salida tiene que ser de tipo **`pd.Series`** o **`pd.DataFrame`** y los índices deben corresponder al año."
      ]
    },
    {
      "cell_type": "markdown",
      "metadata": {
        "id": "SXbXn4nGo5TO"
      },
      "source": [
        "<details>    \n",
        "<summary>\n",
        "    <font size=\"3\" color=\"darkgreen\"><b>Pistas</b></font>\n",
        "</summary>\n",
        "\n",
        "* La variable debe contener un objeto de tipo **`pd.Series`** o **`pd.DataFrame`** con el índice siendo el año y el valor promedio del año como contenido.\n",
        "* Verifique el tipo de dato obtenido en cada acción. En muchos casos el objeto retornado tras realizar una operación es un objeto válido de *pandas* sobre el que se pueden hacer más operaciones.\n",
        "* Puede verificar (en una celda aparte) que el tamaño del objeto resultante **`sal_base_prom.shape`** sea **`(4,1)`** o **`(4,)`**.\n"
      ]
    },
    {
      "cell_type": "code",
      "metadata": {
        "id": "oNyTdoCpq_i5",
        "colab": {
          "base_uri": "https://localhost:8080/",
          "height": 241
        },
        "outputId": "55d8e330-244d-4a99-95fc-c781982f2125"
      },
      "source": [
        "## sal_base_prom\n",
        "### ESCRIBA SU CÓDIGO AQUÍ ### (~ 1 línea de código)\n",
        "sal_base_prom = sal.groupby('Year')['BasePay'].mean()\n",
        "sal_base_prom\n",
        "### FIN DEL CÓDIGO ###\n"
      ],
      "execution_count": 34,
      "outputs": [
        {
          "output_type": "execute_result",
          "data": {
            "text/plain": [
              "Year\n",
              "2011    63595.956517\n",
              "2012    65436.406857\n",
              "2013    69630.030216\n",
              "2014    66564.421924\n",
              "Name: BasePay, dtype: float64"
            ],
            "text/html": [
              "<div>\n",
              "<style scoped>\n",
              "    .dataframe tbody tr th:only-of-type {\n",
              "        vertical-align: middle;\n",
              "    }\n",
              "\n",
              "    .dataframe tbody tr th {\n",
              "        vertical-align: top;\n",
              "    }\n",
              "\n",
              "    .dataframe thead th {\n",
              "        text-align: right;\n",
              "    }\n",
              "</style>\n",
              "<table border=\"1\" class=\"dataframe\">\n",
              "  <thead>\n",
              "    <tr style=\"text-align: right;\">\n",
              "      <th></th>\n",
              "      <th>BasePay</th>\n",
              "    </tr>\n",
              "    <tr>\n",
              "      <th>Year</th>\n",
              "      <th></th>\n",
              "    </tr>\n",
              "  </thead>\n",
              "  <tbody>\n",
              "    <tr>\n",
              "      <th>2011</th>\n",
              "      <td>63595.956517</td>\n",
              "    </tr>\n",
              "    <tr>\n",
              "      <th>2012</th>\n",
              "      <td>65436.406857</td>\n",
              "    </tr>\n",
              "    <tr>\n",
              "      <th>2013</th>\n",
              "      <td>69630.030216</td>\n",
              "    </tr>\n",
              "    <tr>\n",
              "      <th>2014</th>\n",
              "      <td>66564.421924</td>\n",
              "    </tr>\n",
              "  </tbody>\n",
              "</table>\n",
              "</div><br><label><b>dtype:</b> float64</label>"
            ]
          },
          "metadata": {},
          "execution_count": 34
        }
      ]
    },
    {
      "cell_type": "markdown",
      "metadata": {
        "id": "Ovef2vVmHXzp"
      },
      "source": [
        "La salida de la celda anterior debería ser (no se muestran todas las cifras):\n",
        "```python\n",
        "Year\n",
        "2011    63___.___517\n",
        "2012    65___.___857\n",
        "2013    69___.___216\n",
        "2014    66___.___924\n",
        "Name: BasePay, dtype: float64\n",
        "```"
      ]
    },
    {
      "cell_type": "markdown",
      "metadata": {
        "id": "ATxsd1cMrY92"
      },
      "source": [
        "## **8. ¿Cuántos cargos únicos distintos existen?**\n",
        "---\n",
        "\n",
        "Guarde el resultado de esta pregunta en la variable **`cargos_unicos`**."
      ]
    },
    {
      "cell_type": "markdown",
      "metadata": {
        "id": "PxCSQBBXpeg7"
      },
      "source": [
        "<details>    \n",
        "<summary>\n",
        "    <font size=\"3\" color=\"darkgreen\"><b>Pistas</b></font>\n",
        "</summary>\n",
        "\n",
        "* No es necesario realizar el conteo con múltiples operaciones. Uno de los métodos presentados en la guía realiza esta tarea."
      ]
    },
    {
      "cell_type": "code",
      "metadata": {
        "id": "rpZzwLPXrY93",
        "colab": {
          "base_uri": "https://localhost:8080/"
        },
        "outputId": "16d3fdc0-4119-4539-81b3-c6f49702d229"
      },
      "source": [
        "## cargos_unicos\n",
        "\n",
        "### ESCRIBA SU CÓDIGO AQUÍ ### (~ 1 línea de código)\n",
        "cargos_unicos = sal['JobTitle'].nunique()\n",
        "cargos_unicos\n",
        "### FIN DEL CÓDIGO ###\n"
      ],
      "execution_count": 40,
      "outputs": [
        {
          "output_type": "execute_result",
          "data": {
            "text/plain": [
              "2159"
            ]
          },
          "metadata": {},
          "execution_count": 40
        }
      ]
    },
    {
      "cell_type": "markdown",
      "metadata": {
        "id": "OVPRJXe6Hemw"
      },
      "source": [
        "La salida de la celda anterior debería ser (no se muestran todas las cifras):\n",
        "```python\n",
        "2__9\n",
        "```"
      ]
    },
    {
      "cell_type": "markdown",
      "metadata": {
        "id": "I-YzGCGSr0PV"
      },
      "source": [
        "## **9. ¿Cuáles son los 5 cargos más comunes?**\n",
        "---\n",
        "\n",
        "Guarde el resultado de esta pregunta en la variable **`cargos_comunes`**."
      ]
    },
    {
      "cell_type": "markdown",
      "metadata": {
        "id": "IsupjiOKHhOq"
      },
      "source": [
        "<details>    \n",
        "<summary>\n",
        "    <font size=\"3\" color=\"darkgreen\"><b>Pistas</b></font>\n",
        "</summary>\n",
        "\n",
        "* La variable debería contener un objeto *Series*, con el índice correspondiendo al nombre del cargo, y la frecuencia de dicho cargo en su valor.\n"
      ]
    },
    {
      "cell_type": "code",
      "metadata": {
        "id": "uIenpPppr0PW",
        "colab": {
          "base_uri": "https://localhost:8080/",
          "height": 272
        },
        "outputId": "1bac3c21-3953-48de-c660-b50e69a7be04"
      },
      "source": [
        "## cargos_comunes\n",
        "\n",
        "### ESCRIBA SU CÓDIGO AQUÍ ### (~ 1 línea de código)\n",
        "cargos_comunes = sal['JobTitle'].value_counts().head(5)\n",
        "cargos_comunes\n",
        "\n",
        "### FIN DEL CÓDIGO ###\n",
        "\n"
      ],
      "execution_count": 41,
      "outputs": [
        {
          "output_type": "execute_result",
          "data": {
            "text/plain": [
              "JobTitle\n",
              "Transit Operator                7036\n",
              "Special Nurse                   4389\n",
              "Registered Nurse                3736\n",
              "Public Svc Aide-Public Works    2518\n",
              "Police Officer 3                2421\n",
              "Name: count, dtype: int64"
            ],
            "text/html": [
              "<div>\n",
              "<style scoped>\n",
              "    .dataframe tbody tr th:only-of-type {\n",
              "        vertical-align: middle;\n",
              "    }\n",
              "\n",
              "    .dataframe tbody tr th {\n",
              "        vertical-align: top;\n",
              "    }\n",
              "\n",
              "    .dataframe thead th {\n",
              "        text-align: right;\n",
              "    }\n",
              "</style>\n",
              "<table border=\"1\" class=\"dataframe\">\n",
              "  <thead>\n",
              "    <tr style=\"text-align: right;\">\n",
              "      <th></th>\n",
              "      <th>count</th>\n",
              "    </tr>\n",
              "    <tr>\n",
              "      <th>JobTitle</th>\n",
              "      <th></th>\n",
              "    </tr>\n",
              "  </thead>\n",
              "  <tbody>\n",
              "    <tr>\n",
              "      <th>Transit Operator</th>\n",
              "      <td>7036</td>\n",
              "    </tr>\n",
              "    <tr>\n",
              "      <th>Special Nurse</th>\n",
              "      <td>4389</td>\n",
              "    </tr>\n",
              "    <tr>\n",
              "      <th>Registered Nurse</th>\n",
              "      <td>3736</td>\n",
              "    </tr>\n",
              "    <tr>\n",
              "      <th>Public Svc Aide-Public Works</th>\n",
              "      <td>2518</td>\n",
              "    </tr>\n",
              "    <tr>\n",
              "      <th>Police Officer 3</th>\n",
              "      <td>2421</td>\n",
              "    </tr>\n",
              "  </tbody>\n",
              "</table>\n",
              "</div><br><label><b>dtype:</b> int64</label>"
            ]
          },
          "metadata": {},
          "execution_count": 41
        }
      ]
    },
    {
      "cell_type": "markdown",
      "metadata": {
        "id": "GoBEIyJepzUs"
      },
      "source": [
        "La salida de la celda anterior debería ser (no se muestran todos los caracteres):\n",
        "```python\n",
        "Tr___it Op___tor                7__6\n",
        "Sp___al Nu___                   4__9\n",
        "Re___tered Nu___                3__6\n",
        "Pu___c Svc Ai___Pu___c Wo___    2__8\n",
        "Po___e Of___er 3                2__1\n",
        "Name: JobTitle, dtype: int64\n",
        "```"
      ]
    },
    {
      "cell_type": "markdown",
      "metadata": {
        "id": "k8op0kVDsqKr"
      },
      "source": [
        "## **10. ¿Cuántos cargos estaban ocupados solamente por una persona en 2013?**\n",
        "---\n",
        "\n",
        "Guarde el resultado de esta pregunta en la variable **`cargos_una_pers`**."
      ]
    },
    {
      "cell_type": "markdown",
      "metadata": {
        "id": "RLz1gVW4qL1R"
      },
      "source": [
        "<details>    \n",
        "<summary>\n",
        "    <font size=\"3\" color=\"darkgreen\"><b>Pistas</b></font>\n",
        "</summary>\n",
        "\n",
        "* La variable debería contener un número entero.\n",
        "* Intente combinar métodos de entendimiento de datos con selección condicional.\n",
        "* Puede usar la suma **`sum`** para contar el total de valores **`True`** en un arreglo de valores booleanos.\n",
        "\n"
      ]
    },
    {
      "cell_type": "code",
      "metadata": {
        "id": "EtROrngSsqKt",
        "colab": {
          "base_uri": "https://localhost:8080/"
        },
        "outputId": "920a55bb-af67-4e30-dc04-0c371fc659e6"
      },
      "source": [
        "\n",
        "### ESCRIBA SU CÓDIGO AQUÍ ### (~ 1 línea de código)\n",
        "cargos_una_pers = sum(sal[sal['Year']==2013]['JobTitle'].value_counts() == 1)\n",
        "cargos_una_pers\n",
        "### FIN DEL CÓDIGO ###"
      ],
      "execution_count": 42,
      "outputs": [
        {
          "output_type": "execute_result",
          "data": {
            "text/plain": [
              "202"
            ]
          },
          "metadata": {},
          "execution_count": 42
        }
      ]
    },
    {
      "cell_type": "markdown",
      "metadata": {
        "id": "fRMJz3FCHsXE"
      },
      "source": [
        "La salida de la celda anterior debería ser (no se muestran todas las cifras):\n",
        "```python\n",
        "2_2\n",
        "```"
      ]
    },
    {
      "cell_type": "markdown",
      "metadata": {
        "id": "FDCxgr7ptbTS"
      },
      "source": [
        "## **11. ¿Cuántas personas tienen la palabra 'Chief' en su cargo?**\n",
        "---\n",
        "\n",
        "Guarde el resultado de esta pregunta en la variable **`total_chief`**.\n",
        "\n",
        "**Nota:** Es probable que tenga que implementar una función adicional."
      ]
    },
    {
      "cell_type": "markdown",
      "metadata": {
        "id": "Tb-l0Uz0qrTY"
      },
      "source": [
        "<details>    \n",
        "<summary>\n",
        "    <font size=\"3\" color=\"darkgreen\"><b>Pistas</b></font>\n",
        "</summary>\n",
        "\n",
        "* Puede definir una función para detectar la palabra **`'chief'`** y aplicarla en el *DataFrame*. Para esto puede necesitar funciones sobre [cadenas de texto](https://www.w3schools.com/python/python_ref_string.asp) de *Python*.\n",
        "* Si se realiza una operación matemática como la suma en valores booleanos se cuentan como 0 (**`False`**) y 1 (**`True`**)."
      ]
    },
    {
      "cell_type": "code",
      "metadata": {
        "id": "y3B8MVxEtbTT"
      },
      "source": [
        "### ESCRIBA SU CÓDIGO AQUÍ ### (~ 6 líneas de código)\n",
        "### FIN DEL CÓDIGO ###"
      ],
      "execution_count": 47,
      "outputs": []
    },
    {
      "cell_type": "markdown",
      "metadata": {
        "id": "TfZVfQXhHz2l"
      },
      "source": [
        "La salida de la celda anterior debería ser (no se muestran todas las cifras):\n",
        "```python\n",
        "6_7\n",
        "```"
      ]
    },
    {
      "cell_type": "markdown",
      "metadata": {
        "id": "4IFgN_ByuUzi"
      },
      "source": [
        "## **12. ¿Cuáles son los 10 apellidos más comunes?**\n",
        "---\n",
        "Guarde el resultado de esta pregunta en la variable **`apellido_comun`**. Para simplificar las cosas, vamos a asumir que la última palabra en la cadena **`EmployeeName`** corresponde al apellido de la persona. Debe retornar los 10 apellidos más comunes escritos en **mayúsculas**, junto con sus frecuencias.\n",
        "\n",
        "> **Nota:** Es probable que tenga que implementar una función adicional.\n"
      ]
    },
    {
      "cell_type": "markdown",
      "metadata": {
        "id": "jOlC-zA2rn_H"
      },
      "source": [
        "<details>    \n",
        "<summary>\n",
        "    <font size=\"3\" color=\"darkgreen\"><b>Pistas</b></font>\n",
        "</summary>\n",
        "\n",
        "* Puede usar la función **`apply`** para aplicar una función a cada uno de los elementos en una columna.\n",
        "* Puede definir una función para separar el nombre completo y convertirlo en mayúscula para aplicarla luego sobre el *DataFrame*. Para esto puede necesitar funciones sobre [cadenas de texto](https://www.w3schools.com/python/python_ref_string.asp) de *Python*.\n",
        "* Solo nos interesan dos variables, por lo que debería realizar una selección previa de las características."
      ]
    },
    {
      "cell_type": "code",
      "metadata": {
        "id": "Qnuu5G-iBePq",
        "colab": {
          "base_uri": "https://localhost:8080/",
          "height": 429
        },
        "outputId": "16776b7b-362f-4040-cef9-bded9b7f2414"
      },
      "source": [
        "## apellido_comun\n",
        "\n",
        "### ESCRIBA SU CÓDIGO AQUÍ ### (~ 6 líneas de código)\n",
        "\n",
        "def apellido_mayuscula(name):\n",
        "  return name.split()[-1].upper()\n",
        "\n",
        "sal['EmployeeName'].apply(apellido_mayuscula).value_counts().head(10)\n",
        "  # Implemente esta función: debe retornar la última palabra,\n",
        "  # separando por espacio de la cadena \"name\" dada.\n",
        "\n",
        "# Utilice la función anterior para cada uno de los elementos en la columna \"EmployeeName\"\n",
        "# y obtenga los 10 apellidos más comunes. (NO MODIFIQUE EL DATAFRAME ORIGINAL)\n",
        "\n",
        "\n",
        "### FIN DEL CÓDIGO ###\n",
        "\n"
      ],
      "execution_count": 48,
      "outputs": [
        {
          "output_type": "execute_result",
          "data": {
            "text/plain": [
              "EmployeeName\n",
              "WONG        1859\n",
              "JR          1835\n",
              "LEE         1834\n",
              "CHAN        1162\n",
              "JOHNSON      771\n",
              "WILLIAMS     705\n",
              "SMITH        678\n",
              "CHEN         608\n",
              "JONES        591\n",
              "NG           559\n",
              "Name: count, dtype: int64"
            ],
            "text/html": [
              "<div>\n",
              "<style scoped>\n",
              "    .dataframe tbody tr th:only-of-type {\n",
              "        vertical-align: middle;\n",
              "    }\n",
              "\n",
              "    .dataframe tbody tr th {\n",
              "        vertical-align: top;\n",
              "    }\n",
              "\n",
              "    .dataframe thead th {\n",
              "        text-align: right;\n",
              "    }\n",
              "</style>\n",
              "<table border=\"1\" class=\"dataframe\">\n",
              "  <thead>\n",
              "    <tr style=\"text-align: right;\">\n",
              "      <th></th>\n",
              "      <th>count</th>\n",
              "    </tr>\n",
              "    <tr>\n",
              "      <th>EmployeeName</th>\n",
              "      <th></th>\n",
              "    </tr>\n",
              "  </thead>\n",
              "  <tbody>\n",
              "    <tr>\n",
              "      <th>WONG</th>\n",
              "      <td>1859</td>\n",
              "    </tr>\n",
              "    <tr>\n",
              "      <th>JR</th>\n",
              "      <td>1835</td>\n",
              "    </tr>\n",
              "    <tr>\n",
              "      <th>LEE</th>\n",
              "      <td>1834</td>\n",
              "    </tr>\n",
              "    <tr>\n",
              "      <th>CHAN</th>\n",
              "      <td>1162</td>\n",
              "    </tr>\n",
              "    <tr>\n",
              "      <th>JOHNSON</th>\n",
              "      <td>771</td>\n",
              "    </tr>\n",
              "    <tr>\n",
              "      <th>WILLIAMS</th>\n",
              "      <td>705</td>\n",
              "    </tr>\n",
              "    <tr>\n",
              "      <th>SMITH</th>\n",
              "      <td>678</td>\n",
              "    </tr>\n",
              "    <tr>\n",
              "      <th>CHEN</th>\n",
              "      <td>608</td>\n",
              "    </tr>\n",
              "    <tr>\n",
              "      <th>JONES</th>\n",
              "      <td>591</td>\n",
              "    </tr>\n",
              "    <tr>\n",
              "      <th>NG</th>\n",
              "      <td>559</td>\n",
              "    </tr>\n",
              "  </tbody>\n",
              "</table>\n",
              "</div><br><label><b>dtype:</b> int64</label>"
            ]
          },
          "metadata": {},
          "execution_count": 48
        }
      ]
    },
    {
      "cell_type": "markdown",
      "metadata": {
        "id": "td_M1_LRNsCl"
      },
      "source": [
        "La salida de la celda anterior debería ser:\n",
        "```python\n",
        "W__G        1__9\n",
        "J_          1__5\n",
        "LE_         1__4\n",
        "C__N        1__2\n",
        "JO___ON      7_1\n",
        "WI___AMS     7_5\n",
        "SM__H        6_8\n",
        "CH__         6_8\n",
        "JO__S        5_1\n",
        "N_           5_9\n",
        "Name: EmployeeName, dtype: int64\n",
        "```"
      ]
    },
    {
      "cell_type": "markdown",
      "metadata": {
        "id": "4luKKP58V-Qs"
      },
      "source": [
        "**¡Felicitaciones!** Esta tarea fue más retadora. ¡Muy buen trabajo!\n",
        "\n",
        "## **Entrega**\n",
        "\n",
        "Para entregar el notebook por favor haga lo siguiente:\n",
        "1. Descargue el notebook (`Archivo` -> `Descargar .ipynb`).\n",
        "2. Guardar el archivo descargado y envialo en la fecha correspondiente.\n"
      ]
    }
  ]
}